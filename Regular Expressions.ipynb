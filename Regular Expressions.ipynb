{
 "cells": [
  {
   "cell_type": "markdown",
   "metadata": {},
   "source": [
    "# Regular Expressions for Lexical Processing"
   ]
  },
  {
   "cell_type": "code",
   "execution_count": 1,
   "metadata": {},
   "outputs": [],
   "source": [
    "import re"
   ]
  },
  {
   "cell_type": "markdown",
   "metadata": {},
   "source": [
    "### Seatch for patterns"
   ]
  },
  {
   "cell_type": "code",
   "execution_count": 2,
   "metadata": {},
   "outputs": [
    {
     "data": {
      "text/plain": [
       "<re.Match object; span=(18, 24), match='Lohith'>"
      ]
     },
     "execution_count": 2,
     "metadata": {},
     "output_type": "execute_result"
    }
   ],
   "source": [
    "re.search(\"Lohith\", \"My best friend is Lohith\")"
   ]
  },
  {
   "cell_type": "code",
   "execution_count": 3,
   "metadata": {},
   "outputs": [
    {
     "data": {
      "text/plain": [
       "'Lohith'"
      ]
     },
     "execution_count": 3,
     "metadata": {},
     "output_type": "execute_result"
    }
   ],
   "source": [
    "match=re.search(\"Lohith\", \"My best friend is Lohith\")\n",
    "match.group()"
   ]
  },
  {
   "cell_type": "markdown",
   "metadata": {},
   "source": [
    "### Quantifiers"
   ]
  },
  {
   "cell_type": "code",
   "execution_count": 4,
   "metadata": {},
   "outputs": [],
   "source": [
    "def pattern_search(pattern,text):\n",
    "    print(re.search(pattern,text))"
   ]
  },
  {
   "cell_type": "markdown",
   "metadata": {},
   "source": [
    "#### * tells either {) {a} {ab} {abb} {abbb..} since * is behind b, b will be repetative"
   ]
  },
  {
   "cell_type": "code",
   "execution_count": 130,
   "metadata": {},
   "outputs": [
    {
     "name": "stdout",
     "output_type": "stream",
     "text": [
      "<re.Match object; span=(0, 1), match='a'>\n",
      "<re.Match object; span=(0, 2), match='ab'>\n",
      "<re.Match object; span=(0, 3), match='abb'>\n",
      "None\n"
     ]
    }
   ],
   "source": [
    "pattern_search(\"ab*\",\"ac\")\n",
    "pattern_search(\"ab*\",\"abc\")\n",
    "pattern_search(\"abb*\",\"abbc\")\n",
    "pattern_search(\"ac*\",\"bd\")"
   ]
  },
  {
   "cell_type": "markdown",
   "metadata": {},
   "source": [
    "#### ? tells either {} {all letters inside}, eg for last is {} {a} {ab}"
   ]
  },
  {
   "cell_type": "code",
   "execution_count": 16,
   "metadata": {},
   "outputs": [
    {
     "name": "stdout",
     "output_type": "stream",
     "text": [
      "<re.Match object; span=(0, 1), match='a'>\n",
      "<re.Match object; span=(0, 0), match=''>\n",
      "<re.Match object; span=(0, 2), match='ab'>\n",
      "<re.Match object; span=(0, 3), match='abc'>\n",
      "<re.Match object; span=(0, 1), match='a'>\n"
     ]
    }
   ],
   "source": [
    "pattern_search(\"a?\",\"ac\")\n",
    "pattern_search(\"a?\",\"bc\")\n",
    "pattern_search(\"ab?\",\"abc\")\n",
    "pattern_search(\"abc?\",\"abcc\")\n",
    "pattern_search(\"ab?\",\"ac\")"
   ]
  },
  {
   "cell_type": "markdown",
   "metadata": {},
   "source": [
    "#### + means either {a} {aa} {aaa...}"
   ]
  },
  {
   "cell_type": "code",
   "execution_count": 171,
   "metadata": {},
   "outputs": [
    {
     "name": "stdout",
     "output_type": "stream",
     "text": [
      "<re.Match object; span=(0, 1), match='a'>\n",
      "None\n",
      "<re.Match object; span=(0, 2), match='aa'>\n",
      "<re.Match object; span=(0, 4), match='abbb'>\n",
      "<re.Match object; span=(1, 3), match='bb'>\n"
     ]
    }
   ],
   "source": [
    "pattern_search(\"a+\",\"abc\")\n",
    "pattern_search(\"a+\",\"bcd\")\n",
    "pattern_search(\"a+\",\"aab\")\n",
    "pattern_search(\"ab+\",\"abbb\")\n",
    "pattern_search(\"b+\",\"abbc\")"
   ]
  },
  {
   "cell_type": "markdown",
   "metadata": {},
   "source": [
    "#### ab{2} means b repeating exactly 2 times"
   ]
  },
  {
   "cell_type": "code",
   "execution_count": 23,
   "metadata": {},
   "outputs": [
    {
     "name": "stdout",
     "output_type": "stream",
     "text": [
      "None\n",
      "<re.Match object; span=(0, 3), match='abb'>\n"
     ]
    }
   ],
   "source": [
    "pattern_search(\"ab{2}\",\"ab\")\n",
    "pattern_search(\"ab{2}\",\"abb\")"
   ]
  },
  {
   "cell_type": "markdown",
   "metadata": {},
   "source": [
    "#### ab{2,5} means b occuring with minimum of 2 times and maximum of 5 times"
   ]
  },
  {
   "cell_type": "code",
   "execution_count": 30,
   "metadata": {},
   "outputs": [
    {
     "name": "stdout",
     "output_type": "stream",
     "text": [
      "<re.Match object; span=(0, 4), match='bbbb'>\n",
      "None\n",
      "<re.Match object; span=(0, 5), match='abbbb'>\n"
     ]
    }
   ],
   "source": [
    "pattern_search(\"b{2,5}\",\"bbbb\")\n",
    "pattern_search(\"ab{3,6}\",\"abababab\")\n",
    "pattern_search(\"ab{3,6}\",\"abbbb\")"
   ]
  },
  {
   "cell_type": "markdown",
   "metadata": {},
   "source": [
    "### Anchors"
   ]
  },
  {
   "cell_type": "markdown",
   "metadata": {},
   "source": [
    "#### ^A indicates check if the word is starting from A\n",
    "#### $B indicates if the word is ending with character B"
   ]
  },
  {
   "cell_type": "code",
   "execution_count": 42,
   "metadata": {},
   "outputs": [
    {
     "name": "stdout",
     "output_type": "stream",
     "text": [
      "<re.Match object; span=(0, 1), match='J'>\n",
      "<re.Match object; span=(5, 6), match='e'>\n",
      "None\n"
     ]
    }
   ],
   "source": [
    "pattern_search(\"^J\",\"Johny\")\n",
    "pattern_search(\"e$\",\"Google\")\n",
    "pattern_search(\"^S\",\"Pratheek\")"
   ]
  },
  {
   "cell_type": "markdown",
   "metadata": {},
   "source": [
    "### Wildcards"
   ]
  },
  {
   "cell_type": "code",
   "execution_count": 123,
   "metadata": {},
   "outputs": [
    {
     "name": "stdout",
     "output_type": "stream",
     "text": [
      "<re.Match object; span=(0, 1), match='a'>\n"
     ]
    }
   ],
   "source": [
    "pattern_search(\".\",\"abcd\")\n"
   ]
  },
  {
   "cell_type": "markdown",
   "metadata": {},
   "source": [
    "### Whitespaces"
   ]
  },
  {
   "cell_type": "code",
   "execution_count": 68,
   "metadata": {},
   "outputs": [
    {
     "name": "stdout",
     "output_type": "stream",
     "text": [
      "<re.Match object; span=(3, 4), match=' '>\n"
     ]
    }
   ],
   "source": [
    "pattern_search(\" +\",\"Loh ith\")"
   ]
  },
  {
   "cell_type": "code",
   "execution_count": null,
   "metadata": {},
   "outputs": [],
   "source": []
  },
  {
   "cell_type": "markdown",
   "metadata": {},
   "source": [
    "### Other searches"
   ]
  },
  {
   "cell_type": "code",
   "execution_count": 43,
   "metadata": {},
   "outputs": [
    {
     "name": "stdout",
     "output_type": "stream",
     "text": [
      "<re.Match object; span=(0, 3), match='abc'>\n"
     ]
    }
   ],
   "source": [
    "pattern_search(\"(abc)\",\"abcabcabc\")"
   ]
  },
  {
   "cell_type": "code",
   "execution_count": 44,
   "metadata": {},
   "outputs": [
    {
     "name": "stdout",
     "output_type": "stream",
     "text": [
      "<re.Match object; span=(0, 9), match='abcabcabc'>\n"
     ]
    }
   ],
   "source": [
    "pattern_search(\"(abc){1,3}\",\"abcabcabcabc\")"
   ]
  },
  {
   "cell_type": "code",
   "execution_count": 45,
   "metadata": {},
   "outputs": [
    {
     "name": "stdout",
     "output_type": "stream",
     "text": [
      "<re.Match object; span=(0, 9), match='001001001'>\n"
     ]
    }
   ],
   "source": [
    "pattern_search(\"(001)+\",\"001001001\")"
   ]
  },
  {
   "cell_type": "code",
   "execution_count": 54,
   "metadata": {},
   "outputs": [
    {
     "name": "stdout",
     "output_type": "stream",
     "text": [
      "<re.Match object; span=(8, 17), match='HDFC bank'>\n",
      "<re.Match object; span=(0, 8), match='SBI bank'>\n"
     ]
    }
   ],
   "source": [
    "pattern_search(\"(SBI|HDFC) bank\",\"SBI and HDFC bank are good\")\n",
    "pattern_search(\"(SBI|HDFC) bank\",\"SBI bank HDFC bank are good\")"
   ]
  },
  {
   "cell_type": "code",
   "execution_count": 70,
   "metadata": {},
   "outputs": [
    {
     "name": "stdout",
     "output_type": "stream",
     "text": [
      "<re.Match object; span=(3, 8), match='(100)'>\n"
     ]
    }
   ],
   "source": [
    "pattern_search(\"\\(100\\)\",\"101(100)\")"
   ]
  },
  {
   "cell_type": "code",
   "execution_count": 77,
   "metadata": {},
   "outputs": [
    {
     "name": "stdout",
     "output_type": "stream",
     "text": [
      "<re.Match object; span=(0, 6), match='7+7=14'>\n",
      "<re.Match object; span=(0, 5), match='3%2=1'>\n",
      "<re.Match object; span=(0, 5), match='3a*4b'>\n",
      "<re.Match object; span=(0, 9), match='4*5*6=120'>\n"
     ]
    }
   ],
   "source": [
    "pattern_search(\".\\+.\\=.+\",\"7+7=14\")\n",
    "pattern_search(\".\\%.\\=.+\",\"3%2=1\")\n",
    "pattern_search(\".+\\*.+\",\"3a*4b\")\n",
    "pattern_search(\".\\*.\\*.\\=.+\",\"4*5*6=120\")"
   ]
  },
  {
   "cell_type": "markdown",
   "metadata": {},
   "source": [
    "### Flags"
   ]
  },
  {
   "cell_type": "markdown",
   "metadata": {},
   "source": [
    "#### Ignore case sensitivity by using flags=re.I\n",
    "#### re.M for multiple lines"
   ]
  },
  {
   "cell_type": "code",
   "execution_count": 79,
   "metadata": {},
   "outputs": [
    {
     "data": {
      "text/plain": [
       "<re.Match object; span=(0, 6), match='LOHITH'>"
      ]
     },
     "execution_count": 79,
     "metadata": {},
     "output_type": "execute_result"
    }
   ],
   "source": [
    "re.search(\"lohith\",\"LOHITH\",flags=re.I)"
   ]
  },
  {
   "cell_type": "markdown",
   "metadata": {},
   "source": [
    "### Character Search"
   ]
  },
  {
   "cell_type": "markdown",
   "metadata": {},
   "source": [
    "#### [a-c] means any characters falling between a and c"
   ]
  },
  {
   "cell_type": "code",
   "execution_count": 86,
   "metadata": {},
   "outputs": [
    {
     "name": "stdout",
     "output_type": "stream",
     "text": [
      "<re.Match object; span=(7, 8), match='c'>\n"
     ]
    },
    {
     "data": {
      "text/plain": [
       "<re.Match object; span=(7, 8), match='C'>"
      ]
     },
     "execution_count": 86,
     "metadata": {},
     "output_type": "execute_result"
    }
   ],
   "source": [
    "pattern_search(\"[a-c]\",\"lohith c n\")\n",
    "re.search(\"[a-c]\",\"LOHITH C N\",flags=re.I)"
   ]
  },
  {
   "cell_type": "markdown",
   "metadata": {},
   "source": [
    "#### Want to select everything other than a-c"
   ]
  },
  {
   "cell_type": "code",
   "execution_count": 95,
   "metadata": {},
   "outputs": [
    {
     "name": "stdout",
     "output_type": "stream",
     "text": [
      "<re.Match object; span=(0, 1), match='L'>\n"
     ]
    }
   ],
   "source": [
    "pattern_search(\"[^a-c]\",\"Lohith\")"
   ]
  },
  {
   "cell_type": "markdown",
   "metadata": {},
   "source": [
    "### Shortcuts"
   ]
  },
  {
   "cell_type": "markdown",
   "metadata": {},
   "source": [
    "#### \\s White spaces \n",
    "#### \\S Other than white spaces\n",
    "#### \\d [0-9]\n",
    "#### \\D Other than [0-9]\n",
    "#### \\w [a-z A-z 0-9]\n",
    "#### \\W Other than [a-z A-z 0-9]"
   ]
  },
  {
   "cell_type": "code",
   "execution_count": 100,
   "metadata": {},
   "outputs": [
    {
     "name": "stdout",
     "output_type": "stream",
     "text": [
      "<re.Match object; span=(0, 3), match='ted'>\n"
     ]
    }
   ],
   "source": [
    "pattern_search(\"[a-z]+ed\",\"ted bed red\")"
   ]
  },
  {
   "cell_type": "code",
   "execution_count": 107,
   "metadata": {},
   "outputs": [
    {
     "name": "stdout",
     "output_type": "stream",
     "text": [
      "<re.Match object; span=(0, 10), match='Lohtih1234'>\n"
     ]
    }
   ],
   "source": [
    "pattern_search(\"[a-z A-Z]{1,10}\\d{4}\",\"Lohtih1234\")"
   ]
  },
  {
   "cell_type": "markdown",
   "metadata": {},
   "source": [
    "#### Any character of length 3-10,can include letter,number underscore"
   ]
  },
  {
   "cell_type": "code",
   "execution_count": 127,
   "metadata": {},
   "outputs": [
    {
     "name": "stdout",
     "output_type": "stream",
     "text": [
      "<re.Match object; span=(0, 10), match='lohith_204'>\n"
     ]
    }
   ],
   "source": [
    "pattern_search(\"\\w{3,10}\\_.+\",\"lohith_204\")"
   ]
  },
  {
   "cell_type": "markdown",
   "metadata": {},
   "source": [
    "### Non Greedy Approach (Will fetch 1st match if ? is included at last)"
   ]
  },
  {
   "cell_type": "code",
   "execution_count": 167,
   "metadata": {},
   "outputs": [
    {
     "name": "stdout",
     "output_type": "stream",
     "text": [
      "<re.Match object; span=(0, 2), match='ba'>\n"
     ]
    }
   ],
   "source": [
    "pattern_search(\"bat*?\",\"batsman\")"
   ]
  },
  {
   "cell_type": "code",
   "execution_count": 170,
   "metadata": {},
   "outputs": [
    {
     "name": "stdout",
     "output_type": "stream",
     "text": [
      "<re.Match object; span=(0, 3), match='bat'>\n"
     ]
    }
   ],
   "source": [
    "pattern_search(\"bat{1,3}?\",\"battsman\")"
   ]
  },
  {
   "cell_type": "markdown",
   "metadata": {},
   "source": [
    "### Other RE functions"
   ]
  },
  {
   "cell_type": "markdown",
   "metadata": {},
   "source": [
    "#### re.match  this will match at the beginning of the string\n",
    "#### re.search  this will search anywhere in the string\n",
    "#### re.sub is find and replace (find pattern,replace text,data)\n",
    "#### re.findall will find all patterns that are matched"
   ]
  },
  {
   "cell_type": "code",
   "execution_count": 172,
   "metadata": {},
   "outputs": [],
   "source": [
    "street=\"21 Ramakrishna Road\""
   ]
  },
  {
   "cell_type": "code",
   "execution_count": 184,
   "metadata": {},
   "outputs": [
    {
     "data": {
      "text/plain": [
       "'21 rd Road'"
      ]
     },
     "execution_count": 184,
     "metadata": {},
     "output_type": "execute_result"
    }
   ],
   "source": [
    "re.sub(\"Ra\\w+\",\"rd\",street)"
   ]
  },
  {
   "cell_type": "markdown",
   "metadata": {},
   "source": [
    "### Finditer (to get start and end positions)"
   ]
  },
  {
   "cell_type": "code",
   "execution_count": 185,
   "metadata": {},
   "outputs": [],
   "source": [
    "word=\"Rose is red in color, Taj mahal is white in color\"\n",
    "pattern=\"color\""
   ]
  },
  {
   "cell_type": "code",
   "execution_count": 195,
   "metadata": {},
   "outputs": [
    {
     "name": "stdout",
     "output_type": "stream",
     "text": [
      "Start: 15 End: 20\n",
      "Start: 44 End: 49\n"
     ]
    }
   ],
   "source": [
    "for match in re.finditer(pattern,word):\n",
    "    print(\"Start:\",match.start(),end=\" \")\n",
    "    print(\"End:\",match.end())"
   ]
  },
  {
   "cell_type": "code",
   "execution_count": null,
   "metadata": {},
   "outputs": [],
   "source": []
  }
 ],
 "metadata": {
  "kernelspec": {
   "display_name": "Python 3",
   "language": "python",
   "name": "python3"
  },
  "language_info": {
   "codemirror_mode": {
    "name": "ipython",
    "version": 3
   },
   "file_extension": ".py",
   "mimetype": "text/x-python",
   "name": "python",
   "nbconvert_exporter": "python",
   "pygments_lexer": "ipython3",
   "version": "3.7.4"
  }
 },
 "nbformat": 4,
 "nbformat_minor": 2
}
